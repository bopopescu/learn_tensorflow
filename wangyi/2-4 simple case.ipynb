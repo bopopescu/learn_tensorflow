{
 "cells": [
  {
   "cell_type": "code",
   "execution_count": 2,
   "metadata": {
    "collapsed": true
   },
   "outputs": [],
   "source": [
    "import tensorflow as tf\n",
    "import numpy as np"
   ]
  },
  {
   "cell_type": "code",
   "execution_count": 15,
   "metadata": {},
   "outputs": [
    {
     "name": "stdout",
     "output_type": "stream",
     "text": [
      "[1.1404755, 2.1722393]\n",
      "[2.449233, 4.2795873]\n",
      "[2.5863416, 4.212115]\n",
      "[2.6886687, 4.1596456]\n",
      "[2.7656827, 4.1201544]\n",
      "[2.8236454, 4.0904317]\n",
      "[2.8672702, 4.068062]\n",
      "[2.9001036, 4.051225]\n",
      "[2.9248152, 4.0385537]\n",
      "[2.9434135, 4.0290165]\n",
      "[2.9574113, 4.021839]\n",
      "[2.967946, 4.0164366]\n",
      "[2.9758754, 4.0123706]\n",
      "[2.9818432, 4.0093102]\n",
      "[2.986335, 4.007007]\n",
      "[2.989715, 4.005274]\n",
      "[2.9922595, 4.003969]\n",
      "[2.9941745, 4.0029874]\n",
      "[2.9956155, 4.0022483]\n",
      "[2.9966998, 4.0016923]\n"
     ]
    }
   ],
   "source": [
    "# create 100 randomly distributed float numbers\n",
    "number_of_data = 100\n",
    "k = tf.constant(3.)\n",
    "b = tf.constant(4.)\n",
    "x_data = np.random.rand(number_of_data)\n",
    "y_data = k*x_data + b\n",
    "\n",
    "# linear model\n",
    "predict_k = tf.Variable(0.)\n",
    "predict_b = tf.Variable(0.)\n",
    "y = predict_k*x_data + predict_b\n",
    "\n",
    "# loss function\n",
    "loss = tf.reduce_mean(tf.square(y - y_data))\n",
    "\n",
    "# optimizer\n",
    "learning_rate = tf.constant(0.2)\n",
    "optimizer = tf.train.GradientDescentOptimizer(learning_rate)\n",
    "\n",
    "# train\n",
    "train = optimizer.minimize(loss)\n",
    "\n",
    "# initialize variables\n",
    "init = tf.global_variables_initializer()\n",
    "\n",
    "\n",
    "steps = 200\n",
    "with tf.Session() as sess:\n",
    "    sess.run(init)\n",
    "    for step in range(steps):\n",
    "        sess.run(train)\n",
    "        if step%10 == 0:\n",
    "            print(sess.run([predict_k,predict_b]))"
   ]
  },
  {
   "cell_type": "code",
   "execution_count": null,
   "metadata": {
    "collapsed": true
   },
   "outputs": [],
   "source": []
  }
 ],
 "metadata": {
  "kernelspec": {
   "display_name": "Python 2",
   "language": "python",
   "name": "python2"
  },
  "language_info": {
   "codemirror_mode": {
    "name": "ipython",
    "version": 2
   },
   "file_extension": ".py",
   "mimetype": "text/x-python",
   "name": "python",
   "nbconvert_exporter": "python",
   "pygments_lexer": "ipython2",
   "version": "2.7.13"
  }
 },
 "nbformat": 4,
 "nbformat_minor": 2
}
