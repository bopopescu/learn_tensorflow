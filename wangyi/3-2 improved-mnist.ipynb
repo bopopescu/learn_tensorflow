{
 "cells": [
  {
   "cell_type": "code",
   "execution_count": 1,
   "metadata": {},
   "outputs": [],
   "source": [
    "import tensorflow as tf\n",
    "from tensorflow.examples.tutorials.mnist import input_data"
   ]
  },
  {
   "cell_type": "code",
   "execution_count": 12,
   "metadata": {},
   "outputs": [
    {
     "name": "stdout",
     "output_type": "stream",
     "text": [
      "Extracting mnist/train-images-idx3-ubyte.gz\n",
      "Extracting mnist/train-labels-idx1-ubyte.gz\n",
      "Extracting mnist/t10k-images-idx3-ubyte.gz\n",
      "Extracting mnist/t10k-labels-idx1-ubyte.gz\n"
     ]
    }
   ],
   "source": [
    "mnist = input_data.read_data_sets('mnist', one_hot=True)\n",
    "\n",
    "batch_size = 100\n",
    "n_batch = mnist.train.num_examples // batch_size"
   ]
  },
  {
   "cell_type": "code",
   "execution_count": 15,
   "metadata": {},
   "outputs": [],
   "source": [
    "x = tf.placeholder(tf.float32, [None, 784])\n",
    "y = tf.placeholder(tf.float32, [None, 10])\n",
    "\n",
    "w = tf.Variable(tf.random_normal([784, 10], 0, 0.02))\n",
    "b = tf.Variable(tf.zeros([1, 10]))\n",
    "prediction = tf.nn.softmax(tf.matmul(x, w) + b)\n",
    "\n",
    "#loss = tf.reduce_mean(tf.square(y - prediction))\n",
    "loss = tf.reduce_mean(tf.nn.softmax_cross_entropy_with_logits(labels=y, logits=prediction))\n",
    "train = tf.train.GradientDescentOptimizer(0.2).minimize(loss)\n",
    "\n",
    "correct = tf.equal(tf.argmax(y,1), tf.argmax(prediction, 1))\n",
    "accuracy = tf.reduce_mean(tf.cast(correct, tf.float32))"
   ]
  },
  {
   "cell_type": "code",
   "execution_count": 16,
   "metadata": {},
   "outputs": [
    {
     "name": "stdout",
     "output_type": "stream",
     "text": [
      "iter: 0 accuracy: 0.8596\n",
      "iter: 1 accuracy: 0.8949\n",
      "iter: 2 accuracy: 0.9028\n",
      "iter: 3 accuracy: 0.9064\n",
      "iter: 4 accuracy: 0.9095\n",
      "iter: 5 accuracy: 0.9111\n",
      "iter: 6 accuracy: 0.9114\n",
      "iter: 7 accuracy: 0.9134\n",
      "iter: 8 accuracy: 0.9139\n",
      "iter: 9 accuracy: 0.9159\n",
      "iter: 10 accuracy: 0.9178\n",
      "iter: 11 accuracy: 0.9185\n",
      "iter: 12 accuracy: 0.9193\n",
      "iter: 13 accuracy: 0.9202\n",
      "iter: 14 accuracy: 0.921\n",
      "iter: 15 accuracy: 0.9195\n",
      "iter: 16 accuracy: 0.9214\n",
      "iter: 17 accuracy: 0.9216\n",
      "iter: 18 accuracy: 0.9207\n",
      "iter: 19 accuracy: 0.9215\n",
      "iter: 20 accuracy: 0.9222\n"
     ]
    }
   ],
   "source": [
    "with tf.Session() as sess:\n",
    "    sess.run(tf.global_variables_initializer())\n",
    "    for step in range(21):\n",
    "        for batch in range(n_batch):\n",
    "            batch_x, batch_y = mnist.train.next_batch(batch_size)\n",
    "            sess.run(train, feed_dict={x:batch_x, y:batch_y})\n",
    "            \n",
    "        acc = sess.run(accuracy, feed_dict={x:mnist.test.images, y:mnist.test.labels})\n",
    "        print (\"iter: \" + str(step) + \" accuracy: \" + str(acc))"
   ]
  },
  {
   "cell_type": "code",
   "execution_count": null,
   "metadata": {},
   "outputs": [],
   "source": []
  }
 ],
 "metadata": {
  "kernelspec": {
   "display_name": "Python 3",
   "language": "python",
   "name": "python3"
  },
  "language_info": {
   "codemirror_mode": {
    "name": "ipython",
    "version": 3
   },
   "file_extension": ".py",
   "mimetype": "text/x-python",
   "name": "python",
   "nbconvert_exporter": "python",
   "pygments_lexer": "ipython3",
   "version": "3.5.2"
  }
 },
 "nbformat": 4,
 "nbformat_minor": 2
}
