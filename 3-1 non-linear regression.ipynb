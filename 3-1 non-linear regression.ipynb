{
 "cells": [
  {
   "cell_type": "code",
   "execution_count": 9,
   "metadata": {
    "collapsed": true
   },
   "outputs": [],
   "source": [
    "import tensorflow as tf\n",
    "import numpy as np\n",
    "import matplotlib.pyplot as plt"
   ]
  },
  {
   "cell_type": "code",
   "execution_count": 47,
   "metadata": {},
   "outputs": [
    {
     "name": "stdout",
     "output_type": "stream",
     "text": [
      "(200, 1)\n"
     ]
    }
   ],
   "source": [
    "# create 200 data points\n",
    "start_point, end_point, points_number = -0.5, 0.5, 200\n",
    "x_data = np.linspace(start_point, end_point, points_number)[:, np.newaxis]\n",
    "\n",
    "mu, sigma = 0, 0.02\n",
    "noise = np.random.normal(mu, sigma, x_data.shape)\n",
    "\n",
    "y_data = np.square(x_data) + noise\n",
    "print (x_data.shape)"
   ]
  },
  {
   "cell_type": "code",
   "execution_count": 56,
   "metadata": {},
   "outputs": [
    {
     "name": "stdout",
     "output_type": "stream",
     "text": [
      "('weights_l1 shape:', TensorShape([Dimension(1), Dimension(10)]))\n",
      "('b_l1 shape:', TensorShape([Dimension(1), Dimension(10)]))\n",
      "('weights_l2 shape:', TensorShape([Dimension(10), Dimension(1)]))\n",
      "('b_l2 shape:', TensorShape([Dimension(1), Dimension(1)]))\n",
      "('prediction shape:', TensorShape([Dimension(None), Dimension(1)]))\n",
      "()\n"
     ]
    }
   ],
   "source": [
    "# input and output of neural net\n",
    "x = tf.placeholder(tf.float32, [None, 1])\n",
    "y = tf.placeholder(tf.float32, [None, 1])\n",
    "\n",
    "input_neural_number, hidden_neural_number, output_neural_number = 1, 10, 1\n",
    "\n",
    "# weights\n",
    "weights_l1 = tf.Variable(tf.random_normal([input_neural_number, hidden_neural_number]))\n",
    "b_l1 = tf.Variable(tf.zeros([input_neural_number, hidden_neural_number])) \n",
    "\n",
    "weights_l2 = tf.Variable(tf.random_normal([hidden_neural_number, output_neural_number]))\n",
    "b_l2 = tf.Variable(tf.zeros([1,1]))\n",
    "\n",
    "# a and z\n",
    "a1 = tf.matmul(x, weights_l1) + b_l1\n",
    "z1 = tf.nn.tanh(a1)\n",
    "\n",
    "a2 = tf.matmul(z1, weights_l2) + b_l2\n",
    "prediction = tf.nn.tanh(a2)\n",
    "\n",
    "print (\"weights_l1 shape:\", weights_l1.shape)\n",
    "print (\"b_l1 shape:\", b_l1.shape)\n",
    "print (\"weights_l2 shape:\", weights_l2.shape)\n",
    "print (\"b_l2 shape:\", b_l2.shape)\n",
    "print (\"prediction shape:\", prediction.shape)\n",
    "\n",
    "# loss function\n",
    "loss = tf.reduce_mean(tf.square(y - prediction))\n",
    "# train\n",
    "learning_rate = tf.constant(0.1)\n",
    "train = tf.train.GradientDescentOptimizer(0.1).minimize(loss)"
   ]
  },
  {
   "cell_type": "code",
   "execution_count": 55,
   "metadata": {},
   "outputs": [
    {
     "data": {
      "image/png": "[encoded data removed]",
      "text/plain": [
       "<matplotlib.figure.Figure at 0x11ae31a90>"
      ]
     },
     "metadata": {},
     "output_type": "display_data"
    }
   ],
   "source": [
    "# train and prediction\n",
    "training_times = 2000\n",
    "with tf.Session() as sess:\n",
    "    sess.run(tf.global_variables_initializer())\n",
    "    for _ in range(training_times):\n",
    "        sess.run(train, feed_dict={x:x_data, y:y_data})\n",
    "        \n",
    "    prediction_value = sess.run(prediction, feed_dict={x:x_data})\n",
    "    \n",
    "    # draw pic\n",
    "    plt.figure()\n",
    "    plt.scatter(x_data, y_data)\n",
    "    plt.plot(x_data, prediction_value, 'r-', lw=5)\n",
    "    plt.show()"
   ]
  },
  {
   "cell_type": "code",
   "execution_count": null,
   "metadata": {
    "collapsed": true
   },
   "outputs": [],
   "source": []
  }
 ],
 "metadata": {
  "kernelspec": {
   "display_name": "Python 2",
   "language": "python",
   "name": "python2"
  },
  "language_info": {
   "codemirror_mode": {
    "name": "ipython",
    "version": 2
   },
   "file_extension": ".py",
   "mimetype": "text/x-python",
   "name": "python",
   "nbconvert_exporter": "python",
   "pygments_lexer": "ipython2",
   "version": "2.7.13"
  }
 },
 "nbformat": 4,
 "nbformat_minor": 2
}
